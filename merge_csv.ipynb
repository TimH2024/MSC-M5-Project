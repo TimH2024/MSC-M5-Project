{
  "nbformat": 4,
  "nbformat_minor": 0,
  "metadata": {
    "colab": {
      "provenance": [],
      "gpuType": "T4"
    },
    "kernelspec": {
      "name": "python3",
      "display_name": "Python 3"
    },
    "language_info": {
      "name": "python"
    },
    "accelerator": "GPU"
  },
  "cells": [
    {
      "cell_type": "code",
      "source": [
        "import pandas as pd\n",
        "from datetime import datetime\n",
        "\n",
        "# Load the datasets\n",
        "dataset = pd.read_csv('Datasetv2.csv')\n",
        "property_data = pd.read_csv('Property data  raw 2.csv')\n",
        "\n",
        "# Define the function to convert date to year-quarter format\n",
        "def get_year_quarter(date_str):\n",
        "    date_formats = ['%d-%m-%y', '%d/%m/%y', '%Y-%m-%d', '%m/%d/%y', '%d.%m.%Y', '%d-%m-%Y', '%d/%m/%Y']\n",
        "    for fmt in date_formats:\n",
        "        try:\n",
        "            date = datetime.strptime(date_str, fmt)\n",
        "            year = date.year\n",
        "            quarter = (date.month - 1) // 3 + 1\n",
        "            return date.strftime('%d-%m-%y'), f\"{year}Q{quarter}\"\n",
        "        except ValueError:\n",
        "            continue\n",
        "    raise ValueError(f\"Date format not recognized: {date_str}\")\n",
        "\n",
        "# Extract date and quarter info from the dataset\n",
        "dataset[['date', 'YearQuarter']] = dataset['date'].apply(lambda x: pd.Series(get_year_quarter(x)))\n",
        "\n",
        "# Melt the property data to have a long format\n",
        "property_data_melted = property_data.melt(id_vars=[property_data.columns[0]], var_name='YearQuarter', value_name='Value')\n",
        "\n",
        "# Pivot the melted property data to have a wide format\n",
        "property_data_pivoted = property_data_melted.pivot(index='YearQuarter', columns=property_data.columns[0], values='Value').reset_index()\n",
        "\n",
        "# Merge the datasets on the YearQuarter column\n",
        "merged_dataset = pd.merge(dataset, property_data_pivoted, on='YearQuarter', how='left')\n",
        "\n",
        "# Add quarter info in a new column\n",
        "merged_dataset['Quarter'] = merged_dataset['YearQuarter'].apply(lambda x: x.split('Q')[1])\n",
        "\n",
        "# Convert saleable_area(ft^2) and unit_rate to numeric types\n",
        "merged_dataset['saleable_area(ft^2)'] = pd.to_numeric(merged_dataset['saleable_area(ft^2)'].str.replace(',', ''), errors='coerce')\n",
        "merged_dataset['unit_rate'] = pd.to_numeric(merged_dataset['unit_rate'], errors='coerce')\n",
        "\n",
        "# Create a new column for the revised price\n",
        "merged_dataset['Revised Price'] = merged_dataset['saleable_area(ft^2)'] * merged_dataset['unit_rate']\n",
        "\n",
        "# Save the merged dataset to a new CSV file\n",
        "merged_dataset.to_csv('Merged_Datasetv2.csv', index=False)"
      ],
      "metadata": {
        "id": "Gx4yF-QA9XF3"
      },
      "execution_count": 15,
      "outputs": []
    },
    {
      "cell_type": "code",
      "source": [],
      "metadata": {
        "id": "AZGdxhNG-8nA"
      },
      "execution_count": null,
      "outputs": []
    }
  ]
}