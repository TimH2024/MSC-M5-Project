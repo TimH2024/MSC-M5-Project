{
  "cells": [
    {
      "cell_type": "markdown",
      "metadata": {
        "id": "view-in-github",
        "colab_type": "text"
      },
      "source": [
        "<a href=\"https://colab.research.google.com/github/TimH2024/MSC-M5-Project/blob/main/6_LTSM_Timestamp_and_ensemble_pynb.ipynb\" target=\"_parent\"><img src=\"https://colab.research.google.com/assets/colab-badge.svg\" alt=\"Open In Colab\"/></a>"
      ]
    },
    {
      "cell_type": "markdown",
      "id": "93259bc1",
      "metadata": {
        "id": "93259bc1"
      },
      "source": [
        "# 6. Timestamp and Ensemble"
      ]
    },
    {
      "cell_type": "code",
      "source": [
        "pip install tensorflow keras keras-tuner numpy pandas scikit-learn"
      ],
      "metadata": {
        "colab": {
          "base_uri": "https://localhost:8080/"
        },
        "id": "nuALBXMf--2f",
        "outputId": "95ac27ac-760a-46e7-93ba-d8968472ac35"
      },
      "id": "nuALBXMf--2f",
      "execution_count": 1,
      "outputs": [
        {
          "output_type": "stream",
          "name": "stdout",
          "text": [
            "Requirement already satisfied: tensorflow in /usr/local/lib/python3.10/dist-packages (2.17.1)\n",
            "Requirement already satisfied: keras in /usr/local/lib/python3.10/dist-packages (3.5.0)\n",
            "Collecting keras-tuner\n",
            "  Downloading keras_tuner-1.4.7-py3-none-any.whl.metadata (5.4 kB)\n",
            "Requirement already satisfied: numpy in /usr/local/lib/python3.10/dist-packages (1.26.4)\n",
            "Requirement already satisfied: pandas in /usr/local/lib/python3.10/dist-packages (2.2.2)\n",
            "Requirement already satisfied: scikit-learn in /usr/local/lib/python3.10/dist-packages (1.5.2)\n",
            "Requirement already satisfied: absl-py>=1.0.0 in /usr/local/lib/python3.10/dist-packages (from tensorflow) (1.4.0)\n",
            "Requirement already satisfied: astunparse>=1.6.0 in /usr/local/lib/python3.10/dist-packages (from tensorflow) (1.6.3)\n",
            "Requirement already satisfied: flatbuffers>=24.3.25 in /usr/local/lib/python3.10/dist-packages (from tensorflow) (24.3.25)\n",
            "Requirement already satisfied: gast!=0.5.0,!=0.5.1,!=0.5.2,>=0.2.1 in /usr/local/lib/python3.10/dist-packages (from tensorflow) (0.6.0)\n",
            "Requirement already satisfied: google-pasta>=0.1.1 in /usr/local/lib/python3.10/dist-packages (from tensorflow) (0.2.0)\n",
            "Requirement already satisfied: h5py>=3.10.0 in /usr/local/lib/python3.10/dist-packages (from tensorflow) (3.12.1)\n",
            "Requirement already satisfied: libclang>=13.0.0 in /usr/local/lib/python3.10/dist-packages (from tensorflow) (18.1.1)\n",
            "Requirement already satisfied: ml-dtypes<0.5.0,>=0.3.1 in /usr/local/lib/python3.10/dist-packages (from tensorflow) (0.4.1)\n",
            "Requirement already satisfied: opt-einsum>=2.3.2 in /usr/local/lib/python3.10/dist-packages (from tensorflow) (3.4.0)\n",
            "Requirement already satisfied: packaging in /usr/local/lib/python3.10/dist-packages (from tensorflow) (24.2)\n",
            "Requirement already satisfied: protobuf!=4.21.0,!=4.21.1,!=4.21.2,!=4.21.3,!=4.21.4,!=4.21.5,<5.0.0dev,>=3.20.3 in /usr/local/lib/python3.10/dist-packages (from tensorflow) (4.25.5)\n",
            "Requirement already satisfied: requests<3,>=2.21.0 in /usr/local/lib/python3.10/dist-packages (from tensorflow) (2.32.3)\n",
            "Requirement already satisfied: setuptools in /usr/local/lib/python3.10/dist-packages (from tensorflow) (75.1.0)\n",
            "Requirement already satisfied: six>=1.12.0 in /usr/local/lib/python3.10/dist-packages (from tensorflow) (1.17.0)\n",
            "Requirement already satisfied: termcolor>=1.1.0 in /usr/local/lib/python3.10/dist-packages (from tensorflow) (2.5.0)\n",
            "Requirement already satisfied: typing-extensions>=3.6.6 in /usr/local/lib/python3.10/dist-packages (from tensorflow) (4.12.2)\n",
            "Requirement already satisfied: wrapt>=1.11.0 in /usr/local/lib/python3.10/dist-packages (from tensorflow) (1.17.0)\n",
            "Requirement already satisfied: grpcio<2.0,>=1.24.3 in /usr/local/lib/python3.10/dist-packages (from tensorflow) (1.68.1)\n",
            "Requirement already satisfied: tensorboard<2.18,>=2.17 in /usr/local/lib/python3.10/dist-packages (from tensorflow) (2.17.1)\n",
            "Requirement already satisfied: tensorflow-io-gcs-filesystem>=0.23.1 in /usr/local/lib/python3.10/dist-packages (from tensorflow) (0.37.1)\n",
            "Requirement already satisfied: rich in /usr/local/lib/python3.10/dist-packages (from keras) (13.9.4)\n",
            "Requirement already satisfied: namex in /usr/local/lib/python3.10/dist-packages (from keras) (0.0.8)\n",
            "Requirement already satisfied: optree in /usr/local/lib/python3.10/dist-packages (from keras) (0.13.1)\n",
            "Collecting kt-legacy (from keras-tuner)\n",
            "  Downloading kt_legacy-1.0.5-py3-none-any.whl.metadata (221 bytes)\n",
            "Requirement already satisfied: python-dateutil>=2.8.2 in /usr/local/lib/python3.10/dist-packages (from pandas) (2.8.2)\n",
            "Requirement already satisfied: pytz>=2020.1 in /usr/local/lib/python3.10/dist-packages (from pandas) (2024.2)\n",
            "Requirement already satisfied: tzdata>=2022.7 in /usr/local/lib/python3.10/dist-packages (from pandas) (2024.2)\n",
            "Requirement already satisfied: scipy>=1.6.0 in /usr/local/lib/python3.10/dist-packages (from scikit-learn) (1.13.1)\n",
            "Requirement already satisfied: joblib>=1.2.0 in /usr/local/lib/python3.10/dist-packages (from scikit-learn) (1.4.2)\n",
            "Requirement already satisfied: threadpoolctl>=3.1.0 in /usr/local/lib/python3.10/dist-packages (from scikit-learn) (3.5.0)\n",
            "Requirement already satisfied: wheel<1.0,>=0.23.0 in /usr/local/lib/python3.10/dist-packages (from astunparse>=1.6.0->tensorflow) (0.45.1)\n",
            "Requirement already satisfied: charset-normalizer<4,>=2 in /usr/local/lib/python3.10/dist-packages (from requests<3,>=2.21.0->tensorflow) (3.4.0)\n",
            "Requirement already satisfied: idna<4,>=2.5 in /usr/local/lib/python3.10/dist-packages (from requests<3,>=2.21.0->tensorflow) (3.10)\n",
            "Requirement already satisfied: urllib3<3,>=1.21.1 in /usr/local/lib/python3.10/dist-packages (from requests<3,>=2.21.0->tensorflow) (2.2.3)\n",
            "Requirement already satisfied: certifi>=2017.4.17 in /usr/local/lib/python3.10/dist-packages (from requests<3,>=2.21.0->tensorflow) (2024.8.30)\n",
            "Requirement already satisfied: markdown>=2.6.8 in /usr/local/lib/python3.10/dist-packages (from tensorboard<2.18,>=2.17->tensorflow) (3.7)\n",
            "Requirement already satisfied: tensorboard-data-server<0.8.0,>=0.7.0 in /usr/local/lib/python3.10/dist-packages (from tensorboard<2.18,>=2.17->tensorflow) (0.7.2)\n",
            "Requirement already satisfied: werkzeug>=1.0.1 in /usr/local/lib/python3.10/dist-packages (from tensorboard<2.18,>=2.17->tensorflow) (3.1.3)\n",
            "Requirement already satisfied: markdown-it-py>=2.2.0 in /usr/local/lib/python3.10/dist-packages (from rich->keras) (3.0.0)\n",
            "Requirement already satisfied: pygments<3.0.0,>=2.13.0 in /usr/local/lib/python3.10/dist-packages (from rich->keras) (2.18.0)\n",
            "Requirement already satisfied: mdurl~=0.1 in /usr/local/lib/python3.10/dist-packages (from markdown-it-py>=2.2.0->rich->keras) (0.1.2)\n",
            "Requirement already satisfied: MarkupSafe>=2.1.1 in /usr/local/lib/python3.10/dist-packages (from werkzeug>=1.0.1->tensorboard<2.18,>=2.17->tensorflow) (3.0.2)\n",
            "Downloading keras_tuner-1.4.7-py3-none-any.whl (129 kB)\n",
            "\u001b[2K   \u001b[90m━━━━━━━━━━━━━━━━━━━━━━━━━━━━━━━━━━━━━━━━\u001b[0m \u001b[32m129.1/129.1 kB\u001b[0m \u001b[31m2.8 MB/s\u001b[0m eta \u001b[36m0:00:00\u001b[0m\n",
            "\u001b[?25hDownloading kt_legacy-1.0.5-py3-none-any.whl (9.6 kB)\n",
            "Installing collected packages: kt-legacy, keras-tuner\n",
            "Successfully installed keras-tuner-1.4.7 kt-legacy-1.0.5\n"
          ]
        }
      ]
    },
    {
      "cell_type": "code",
      "source": [
        "# Core libraries\n",
        "import numpy as np\n",
        "import pandas as pd\n",
        "\n",
        "# Machine learning and preprocessing\n",
        "from sklearn.model_selection import train_test_split\n",
        "from sklearn.preprocessing import MinMaxScaler\n",
        "\n",
        "# TensorFlow/Keras for deep learning\n",
        "import tensorflow as tf\n",
        "from tensorflow.keras.models import Sequential\n",
        "from tensorflow.keras.layers import LSTM, Dense, Dropout\n",
        "from tensorflow.keras.optimizers import Adam\n",
        "\n",
        "# Keras Tuner for hyperparameter tuning\n",
        "from keras_tuner import HyperModel\n",
        "from keras_tuner.tuners import RandomSearch"
      ],
      "metadata": {
        "id": "otEckcql_AcO"
      },
      "id": "otEckcql_AcO",
      "execution_count": 2,
      "outputs": []
    },
    {
      "cell_type": "code",
      "source": [
        "import os\n",
        "from google.colab import drive\n",
        "import pandas as pd\n",
        "\n",
        "# Mount Google Drive\n",
        "drive.mount('/content/drive')\n",
        "\n",
        "# Define the subdirectory path\n",
        "subdirectory = '/content/drive/My Drive/Colab Notebooks/M5 Code and Data'\n",
        "\n",
        "# Define file path for 'filtered_dataset120ML.csv' in the subdirectory\n",
        "file_path = os.path.join(subdirectory, 'filtered_dataset120ML.csv')\n",
        "\n",
        "# Check if the file exists, then load it\n",
        "if os.path.exists(file_path):\n",
        "    filtered_dataset120 = pd.read_csv(file_path)\n",
        "    print(f\"File 'filtered_dataset120ML.csv' loaded successfully!\")\n",
        "    print(f\"DataFrame shape: {filtered_dataset120.shape}\")\n",
        "else:\n",
        "    print(f\"File 'filtered_dataset120ML.csv' not found in '{subdirectory}'. Please check the file path.\")"
      ],
      "metadata": {
        "colab": {
          "base_uri": "https://localhost:8080/"
        },
        "id": "uF83erWH_hbM",
        "outputId": "47af8bf7-7501-4b3a-a4fc-8acc8a8c0629"
      },
      "id": "uF83erWH_hbM",
      "execution_count": 9,
      "outputs": [
        {
          "output_type": "stream",
          "name": "stdout",
          "text": [
            "Drive already mounted at /content/drive; to attempt to forcibly remount, call drive.mount(\"/content/drive\", force_remount=True).\n",
            "File 'filtered_dataset120ML.csv' loaded successfully!\n",
            "DataFrame shape: (102229, 58)\n"
          ]
        }
      ]
    },
    {
      "cell_type": "code",
      "source": [
        "import os\n",
        "from google.colab import drive\n",
        "import pandas as pd\n",
        "\n",
        "# Mount Google Drive\n",
        "drive.mount('/content/drive')\n",
        "\n",
        "# Define the subdirectory path\n",
        "subdirectory = '/content/drive/My Drive/Colab Notebooks/M5 Code and Data'\n",
        "\n",
        "# Define file path for 'master_results.csv' in the subdirectory\n",
        "master_results_file_path = os.path.join(subdirectory, 'master_results.csv')\n",
        "\n",
        "# Check if the file exists, then load it\n",
        "if os.path.exists(master_results_file_path):\n",
        "    master_results = pd.read_csv(master_results_file_path)\n",
        "    print(f\"File 'master_results.csv' loaded successfully!\")\n",
        "    print(f\"DataFrame shape: {master_results.shape}\")\n",
        "else:\n",
        "    print(f\"File 'master_results.csv' not found in '{subdirectory}'. Please check the file path.\")"
      ],
      "metadata": {
        "colab": {
          "base_uri": "https://localhost:8080/"
        },
        "id": "j3mu5OC6pP3Z",
        "outputId": "f5854394-ba92-4e1a-8765-38f10d4e1563"
      },
      "id": "j3mu5OC6pP3Z",
      "execution_count": 20,
      "outputs": [
        {
          "output_type": "stream",
          "name": "stdout",
          "text": [
            "Drive already mounted at /content/drive; to attempt to forcibly remount, call drive.mount(\"/content/drive\", force_remount=True).\n",
            "File 'master_results.csv' loaded successfully!\n",
            "DataFrame shape: (16, 10)\n"
          ]
        }
      ]
    },
    {
      "cell_type": "code",
      "source": [
        "print(master_results)"
      ],
      "metadata": {
        "colab": {
          "base_uri": "https://localhost:8080/"
        },
        "id": "8eJJ9W8dqKxm",
        "outputId": "b7f56e3e-f4f2-490c-b065-78533f47baf1"
      },
      "id": "8eJJ9W8dqKxm",
      "execution_count": 14,
      "outputs": [
        {
          "output_type": "stream",
          "name": "stdout",
          "text": [
            "       Target                        Model  Train R²   Test R²           MAE  \\\n",
            "0   new_price            Linear Regression  0.601408  0.595691  4.716642e-01   \n",
            "1   new_price      Random Forest Regressor  0.979135  0.850895  2.333770e-01   \n",
            "2   new_price            XGBoost Regressor  0.832455  0.778517  3.312516e-01   \n",
            "3   new_price  Gradient Boosting Regressor  0.772447  0.752945  3.536000e-01   \n",
            "4          PI            Linear Regression  1.000000  1.000000  7.054472e-16   \n",
            "5          PI      Random Forest Regressor  1.000000  1.000000  3.067508e-14   \n",
            "6          PI            XGBoost Regressor  0.999957  0.999957  6.001523e-03   \n",
            "7          PI  Gradient Boosting Regressor  1.000000  1.000000  1.008244e-08   \n",
            "8   new_price                    Base LSTM  0.668216  0.666281  1.425859e+06   \n",
            "9          PI                    Base LSTM  0.999555  0.999558  9.299883e-02   \n",
            "10  new_price                Enhanced LSTM  0.686986  0.679755  1.390046e+06   \n",
            "11         PI                Enhanced LSTM  0.999217  0.999198  1.451362e-01   \n",
            "12  new_price             Hyper-Tuned LSTM  0.645981  0.644171  1.476749e+06   \n",
            "13         PI             Hyper-Tuned LSTM  0.997012  0.997772  2.027242e-01   \n",
            "14  new_price             Hyper-Tuned LSTM  0.681503  0.675983  1.403522e+06   \n",
            "\n",
            "             MSE          RMSE          MAPE               Comments  \\\n",
            "0   4.013769e-01  6.335431e-01  4.525806e+02                    NaN   \n",
            "1   1.480237e-01  3.847385e-01  1.632906e+02             Best Model   \n",
            "2   2.198767e-01  4.689101e-01  3.637050e+02                    NaN   \n",
            "3   2.452632e-01  4.952406e-01  3.537886e+02                    NaN   \n",
            "4   8.754178e-31  9.356376e-16  9.947874e-14             Best Model   \n",
            "5   1.684234e-27  4.103942e-14  3.244676e-12                    NaN   \n",
            "6   4.316833e-05  6.570261e-03  6.577346e-01                    NaN   \n",
            "7   2.091521e-16  1.446209e-08  8.964217e-07                    NaN   \n",
            "8   3.850930e+12  1.962379e+06  2.122470e+01      Needs Improvement   \n",
            "9   1.698785e-02  1.303375e-01  1.400040e+01      Needs Improvement   \n",
            "10  3.695454e+12  1.922356e+06  2.075847e+01      Needs Improvement   \n",
            "11  3.081737e-02  1.755488e-01  4.561836e+01      Needs Improvement   \n",
            "12  4.099840e+12  2.024806e+06  2.800000e+01  Best Performing Model   \n",
            "13  8.562642e-02  2.921696e-01  6.800000e+00  Best Performing Model   \n",
            "14  3.738976e+12  1.933643e+06  2.124625e+01      Needs Improvement   \n",
            "\n",
            "              Type  \n",
            "0              NaN  \n",
            "1              NaN  \n",
            "2              NaN  \n",
            "3              NaN  \n",
            "4              NaN  \n",
            "5              NaN  \n",
            "6              NaN  \n",
            "7              NaN  \n",
            "8   Neural Network  \n",
            "9   Neural Network  \n",
            "10  Neural Network  \n",
            "11  Neural Network  \n",
            "12  Neural Network  \n",
            "13  Neural Network  \n",
            "14  Neural Network  \n"
          ]
        }
      ]
    },
    {
      "cell_type": "code",
      "source": [
        "# Define the feature matrix (X) and target variables (y)\n",
        "\n",
        "features = filtered_dataset120.drop(columns=['new_price', 'PI'])\n",
        "targets_120 = filtered_dataset120[['new_price', 'PI']]\n",
        "\n",
        "X = features.copy()\n",
        "y = targets_120.copy()"
      ],
      "metadata": {
        "id": "xpb9lCczH_QW"
      },
      "id": "xpb9lCczH_QW",
      "execution_count": 11,
      "outputs": []
    },
    {
      "cell_type": "code",
      "source": [
        "filtered_dataset120.info()"
      ],
      "metadata": {
        "id": "_mtCeJQPH_TA",
        "colab": {
          "base_uri": "https://localhost:8080/"
        },
        "outputId": "32cc148f-c478-42f6-97eb-5c15abb0c653"
      },
      "id": "_mtCeJQPH_TA",
      "execution_count": 6,
      "outputs": [
        {
          "output_type": "stream",
          "name": "stdout",
          "text": [
            "<class 'pandas.core.frame.DataFrame'>\n",
            "RangeIndex: 102229 entries, 0 to 102228\n",
            "Data columns (total 58 columns):\n",
            " #   Column                                          Non-Null Count   Dtype  \n",
            "---  ------                                          --------------   -----  \n",
            " 0   saleable_area(ft^2)                             102229 non-null  int64  \n",
            " 1   floor                                           102229 non-null  float64\n",
            " 2   CG                                              102229 non-null  float64\n",
            " 3   CI                                              102229 non-null  float64\n",
            " 4   CPI                                             102229 non-null  float64\n",
            " 5   GDP                                             102229 non-null  float64\n",
            " 6   HS                                              102229 non-null  float64\n",
            " 7   IR                                              102229 non-null  float64\n",
            " 8   LTV                                             102229 non-null  float64\n",
            " 9   M3                                              102229 non-null  float64\n",
            " 10  MW                                              102229 non-null  float64\n",
            " 11  PG                                              102229 non-null  float64\n",
            " 12  PI                                              102229 non-null  float64\n",
            " 13  SD                                              102229 non-null  float64\n",
            " 14  SM                                              102229 non-null  float64\n",
            " 15  SOLD                                            102229 non-null  float64\n",
            " 16  UR                                              102229 non-null  float64\n",
            " 17  district_Central and Western District           102229 non-null  int64  \n",
            " 18  district_HKIsIand Eastern District              102229 non-null  int64  \n",
            " 19  district_HKIsIand Southern District             102229 non-null  int64  \n",
            " 20  district_Kowloon Kowloon City District          102229 non-null  int64  \n",
            " 21  district_Kowloon Kwun Tong District             102229 non-null  int64  \n",
            " 22  district_Kowloon Sham Shui Po District          102229 non-null  int64  \n",
            " 23  district_Kowloon Wong Tai Sin District          102229 non-null  int64  \n",
            " 24  district_Kowloon Yau Tsim Mong District         102229 non-null  int64  \n",
            " 25  district_Kwai Tsing District                    102229 non-null  int64  \n",
            " 26  district_New Territories East Long Ping Estate  102229 non-null  int64  \n",
            " 27  district_New Territories East North District    102229 non-null  int64  \n",
            " 28  district_New Territories East Sha Tin District  102229 non-null  int64  \n",
            " 29  district_New Territories East Tai Po District   102229 non-null  int64  \n",
            " 30  district_New Territories West Islands District  102229 non-null  int64  \n",
            " 31  district_Tsuen Wan District                     102229 non-null  int64  \n",
            " 32  district_Tuen Mun District                      102229 non-null  int64  \n",
            " 33  district_Wan Chai District                      102229 non-null  int64  \n",
            " 34  district_Yuen Long District                     102229 non-null  int64  \n",
            " 35  region_HK                                       102229 non-null  int64  \n",
            " 36  region_KLN                                      102229 non-null  int64  \n",
            " 37  region_NTEast                                   102229 non-null  int64  \n",
            " 38  region_NTWest                                   102229 non-null  int64  \n",
            " 39  property_size_Large                             102229 non-null  int64  \n",
            " 40  property_size_Medium                            102229 non-null  int64  \n",
            " 41  property_size_Small                             102229 non-null  int64  \n",
            " 42  property_size_Very Large                        102229 non-null  int64  \n",
            " 43  YearQuarter_2020Q1                              102229 non-null  int64  \n",
            " 44  YearQuarter_2020Q2                              102229 non-null  int64  \n",
            " 45  YearQuarter_2020Q3                              102229 non-null  int64  \n",
            " 46  YearQuarter_2020Q4                              102229 non-null  int64  \n",
            " 47  YearQuarter_2021Q1                              102229 non-null  int64  \n",
            " 48  YearQuarter_2021Q2                              102229 non-null  int64  \n",
            " 49  YearQuarter_2021Q3                              102229 non-null  int64  \n",
            " 50  YearQuarter_2021Q4                              102229 non-null  int64  \n",
            " 51  YearQuarter_2022Q1                              102229 non-null  int64  \n",
            " 52  YearQuarter_2022Q2                              102229 non-null  int64  \n",
            " 53  YearQuarter_2022Q3                              102229 non-null  int64  \n",
            " 54  YearQuarter_2022Q4                              102229 non-null  int64  \n",
            " 55  YearQuarter_2023Q1                              102229 non-null  int64  \n",
            " 56  new_price                                       102229 non-null  int64  \n",
            " 57  Timestamp                                       102229 non-null  float64\n",
            "dtypes: float64(17), int64(41)\n",
            "memory usage: 45.2 MB\n"
          ]
        }
      ]
    },
    {
      "cell_type": "markdown",
      "source": [
        "# LSTM WITH TIME STAMP"
      ],
      "metadata": {
        "id": "bEA1OuicbOk_"
      },
      "id": "bEA1OuicbOk_"
    },
    {
      "cell_type": "markdown",
      "source": [
        "# Using the LSTM using Timestamp\"\n",
        "(by espressly utilising the scaled timestamp such that it is not just another feature)"
      ],
      "metadata": {
        "id": "JrIFsMtJbbDd"
      },
      "id": "JrIFsMtJbbDd"
    },
    {
      "cell_type": "code",
      "source": [
        "import numpy as np\n",
        "import pandas as pd\n",
        "import matplotlib.pyplot as plt\n",
        "from keras.models import Sequential\n",
        "from keras.layers import LSTM, Dense, Dropout\n",
        "from keras.optimizers import Adam\n",
        "from keras.callbacks import EarlyStopping\n",
        "from sklearn.metrics import mean_squared_error, mean_absolute_error, r2_score\n",
        "from sklearn.preprocessing import MinMaxScaler\n",
        "from sklearn.model_selection import train_test_split\n",
        "\n",
        "# Ensure data is sorted by Timestamp\n",
        "filtered_dataset120 = filtered_dataset120.sort_values(by=\"Timestamp\")\n",
        "\n",
        "# Handle outliers in `new_price` (cap at 1st and 99th percentiles)\n",
        "q1 = filtered_dataset120[\"new_price\"].quantile(0.01)\n",
        "q99 = filtered_dataset120[\"new_price\"].quantile(0.99)\n",
        "filtered_dataset120[\"new_price\"] = filtered_dataset120[\"new_price\"].clip(lower=q1, upper=q99)\n",
        "\n",
        "# Define feature matrix (X) and target variables (y)\n",
        "features = filtered_dataset120.drop(columns=[\"new_price\", \"PI\"])  # Exclude targets\n",
        "target_new_price = filtered_dataset120[\"new_price\"]              # Target 1\n",
        "target_PI = filtered_dataset120[\"PI\"]                            # Target 2\n",
        "\n",
        "# Scale the features and targets\n",
        "scaler_X = MinMaxScaler()\n",
        "scaled_features = scaler_X.fit_transform(features)\n",
        "scaled_features = pd.DataFrame(scaled_features, columns=features.columns)\n",
        "\n",
        "scaler_new_price = MinMaxScaler()\n",
        "scaler_PI = MinMaxScaler()\n",
        "\n",
        "target_new_price_scaled = scaler_new_price.fit_transform(target_new_price.values.reshape(-1, 1))\n",
        "target_PI_scaled = scaler_PI.fit_transform(target_PI.values.reshape(-1, 1))\n",
        "\n",
        "# Train-test split without shuffling (to maintain temporal order)\n",
        "X_train, X_test, y_train_new_price, y_test_new_price = train_test_split(\n",
        "    scaled_features, target_new_price_scaled, test_size=0.2, random_state=42, shuffle=False\n",
        ")\n",
        "X_train, X_val, y_train_new_price, y_val_new_price = train_test_split(\n",
        "    X_train, y_train_new_price, test_size=0.2, random_state=42, shuffle=False\n",
        ")\n",
        "\n",
        "X_train_PI, X_test_PI, y_train_PI, y_test_PI = train_test_split(\n",
        "    scaled_features, target_PI_scaled, test_size=0.2, random_state=42, shuffle=False\n",
        ")\n",
        "X_train_PI, X_val_PI, y_train_PI, y_val_PI = train_test_split(\n",
        "    X_train_PI, y_train_PI, test_size=0.2, random_state=42, shuffle=False\n",
        ")\n",
        "\n",
        "# Reshape data for LSTM (timesteps=1, features=n_features)\n",
        "X_train = np.expand_dims(X_train.values, axis=1)\n",
        "X_val = np.expand_dims(X_val.values, axis=1)\n",
        "X_test = np.expand_dims(X_test.values, axis=1)\n",
        "\n",
        "X_train_PI = np.expand_dims(X_train_PI.values, axis=1)\n",
        "X_val_PI = np.expand_dims(X_val_PI.values, axis=1)\n",
        "X_test_PI = np.expand_dims(X_test_PI.values, axis=1)\n",
        "\n",
        "# Define the LSTM model with reduced complexity and increased dropout\n",
        "def build_lstm_model(input_shape):\n",
        "    model = Sequential()\n",
        "    model.add(LSTM(units=32, return_sequences=True, input_shape=input_shape))  # Reduced units\n",
        "    model.add(Dropout(0.3))  # Increased dropout\n",
        "    model.add(LSTM(units=16, return_sequences=False))  # Reduced units\n",
        "    model.add(Dropout(0.3))  # Increased dropout\n",
        "    model.add(Dense(units=1))\n",
        "    model.compile(optimizer=Adam(learning_rate=0.001), loss=\"mse\", metrics=[\"mae\"])\n",
        "    return model\n",
        "\n",
        "# Train and evaluate the LSTM model for each target\n",
        "results = {}\n",
        "\n",
        "for target, (X_train_target, X_val_target, X_test_target, y_train, y_val, y_test, scaler) in {\n",
        "    \"new_price\": (X_train, X_val, X_test, y_train_new_price, y_val_new_price, y_test_new_price, scaler_new_price),\n",
        "    \"PI\": (X_train_PI, X_val_PI, X_test_PI, y_train_PI, y_val_PI, y_test_PI, scaler_PI),\n",
        "}.items():\n",
        "    print(f\"Training LSTM for {target}...\")\n",
        "\n",
        "    # Build the model\n",
        "    model = build_lstm_model(input_shape=(X_train_target.shape[1], X_train_target.shape[2]))\n",
        "\n",
        "    # Use early stopping for faster training\n",
        "    early_stopping = EarlyStopping(monitor=\"val_loss\", patience=2, restore_best_weights=True)\n",
        "\n",
        "    # Train the model\n",
        "    history = model.fit(\n",
        "        X_train_target, y_train,\n",
        "        validation_data=(X_val_target, y_val),\n",
        "        epochs=10,  # Reduced epochs\n",
        "        batch_size=32,\n",
        "        verbose=1,\n",
        "        callbacks=[early_stopping],\n",
        "    )\n",
        "\n",
        "    # Evaluate the model\n",
        "    y_pred_scaled = model.predict(X_test_target).flatten()\n",
        "    y_test_scaled = y_test.flatten()\n",
        "\n",
        "    # Inverse transform predictions and actual values\n",
        "    y_pred = scaler.inverse_transform(y_pred_scaled.reshape(-1, 1)).flatten()\n",
        "    y_test = scaler.inverse_transform(y_test_scaled.reshape(-1, 1)).flatten()\n",
        "\n",
        "    # Calculate metrics\n",
        "    mse = mean_squared_error(y_test, y_pred)\n",
        "    rmse = np.sqrt(mse)\n",
        "    mae = mean_absolute_error(y_test, y_pred)\n",
        "    r2_train = r2_score(scaler.inverse_transform(y_train), scaler.inverse_transform(model.predict(X_train_target)))\n",
        "    r2_test = r2_score(y_test, y_pred)\n",
        "\n",
        "    nonzero_indices = y_test != 0\n",
        "    mape = np.mean(np.abs((y_test[nonzero_indices] - y_pred[nonzero_indices]) / y_test[nonzero_indices])) * 100 if np.any(nonzero_indices) else np.nan\n",
        "\n",
        "    # Save results for this target\n",
        "    results[target] = {\n",
        "        \"Target\": target,\n",
        "        \"Model\": \"LSTM with Timestamp\",\n",
        "        \"Train R²\": r2_train,\n",
        "        \"Test R²\": r2_test,\n",
        "        \"MAE\": mae,\n",
        "        \"MSE\": mse,\n",
        "        \"RMSE\": rmse,\n",
        "        \"MAPE\": mape,\n",
        "    }\n",
        "\n",
        "    # Save the model\n",
        "    model.save(f\"optimized_lstm_{target}.h5\")\n",
        "    print(f\"Model for {target} saved as 'optimized_lstm_{target}.h5'.\")\n",
        "\n",
        "    # Plot training curves\n",
        "    plt.figure(figsize=(10, 6))\n",
        "    plt.plot(history.history[\"loss\"], label=\"Training Loss\", color=\"blue\")\n",
        "    plt.plot(history.history[\"val_loss\"], label=\"Validation Loss\", color=\"orange\")\n",
        "    plt.title(f\"LSTM Learning Curves for {target}\")\n",
        "    plt.xlabel(\"Epochs\")\n",
        "    plt.ylabel(\"Loss\")\n",
        "    plt.legend()\n",
        "    plt.grid(True)\n",
        "    plt.show()\n",
        "\n",
        "# Dynamically update `master_results.csv`\n",
        "try:\n",
        "    master_results = pd.read_csv(\"master_results.csv\")\n",
        "except FileNotFoundError:\n",
        "    master_results = pd.DataFrame(columns=[\n",
        "        \"Target\", \"Model\", \"Train R²\", \"Test R²\", \"MAE\", \"MSE\", \"RMSE\", \"MAPE\"\n",
        "    ])\n",
        "\n",
        "for target, metrics in results.items():\n",
        "    master_results = pd.concat([master_results, pd.DataFrame([metrics])], ignore_index=True)\n",
        "\n",
        "master_results.to_csv(\"master_results.csv\", index=False)\n",
        "print(\"Updated results saved to 'master_results.csv'.\")\n",
        "print(master_results.to_string(index=False))"
      ],
      "metadata": {
        "id": "xnPC-HtSH_VN",
        "colab": {
          "base_uri": "https://localhost:8080/",
          "height": 1000
        },
        "outputId": "792ee2d6-d884-4392-d543-482e99200750"
      },
      "id": "xnPC-HtSH_VN",
      "execution_count": 15,
      "outputs": [
        {
          "output_type": "stream",
          "name": "stdout",
          "text": [
            "Training LSTM for new_price...\n"
          ]
        },
        {
          "output_type": "stream",
          "name": "stderr",
          "text": [
            "/usr/local/lib/python3.10/dist-packages/keras/src/layers/rnn/rnn.py:204: UserWarning: Do not pass an `input_shape`/`input_dim` argument to a layer. When using Sequential models, prefer using an `Input(shape)` object as the first layer in the model instead.\n",
            "  super().__init__(**kwargs)\n"
          ]
        },
        {
          "output_type": "stream",
          "name": "stdout",
          "text": [
            "Epoch 1/10\n",
            "\u001b[1m2045/2045\u001b[0m \u001b[32m━━━━━━━━━━━━━━━━━━━━\u001b[0m\u001b[37m\u001b[0m \u001b[1m14s\u001b[0m 5ms/step - loss: 0.0366 - mae: 0.1383 - val_loss: 0.0189 - val_mae: 0.1041\n",
            "Epoch 2/10\n",
            "\u001b[1m2045/2045\u001b[0m \u001b[32m━━━━━━━━━━━━━━━━━━━━\u001b[0m\u001b[37m\u001b[0m \u001b[1m10s\u001b[0m 5ms/step - loss: 0.0202 - mae: 0.1058 - val_loss: 0.0181 - val_mae: 0.1016\n",
            "Epoch 3/10\n",
            "\u001b[1m2045/2045\u001b[0m \u001b[32m━━━━━━━━━━━━━━━━━━━━\u001b[0m\u001b[37m\u001b[0m \u001b[1m10s\u001b[0m 5ms/step - loss: 0.0184 - mae: 0.1006 - val_loss: 0.0205 - val_mae: 0.1122\n",
            "Epoch 4/10\n",
            "\u001b[1m2045/2045\u001b[0m \u001b[32m━━━━━━━━━━━━━━━━━━━━\u001b[0m\u001b[37m\u001b[0m \u001b[1m10s\u001b[0m 5ms/step - loss: 0.0183 - mae: 0.1001 - val_loss: 0.0169 - val_mae: 0.0967\n",
            "Epoch 5/10\n",
            "\u001b[1m2045/2045\u001b[0m \u001b[32m━━━━━━━━━━━━━━━━━━━━\u001b[0m\u001b[37m\u001b[0m \u001b[1m10s\u001b[0m 5ms/step - loss: 0.0181 - mae: 0.0994 - val_loss: 0.0164 - val_mae: 0.0944\n",
            "Epoch 6/10\n",
            "\u001b[1m2045/2045\u001b[0m \u001b[32m━━━━━━━━━━━━━━━━━━━━\u001b[0m\u001b[37m\u001b[0m \u001b[1m10s\u001b[0m 5ms/step - loss: 0.0175 - mae: 0.0978 - val_loss: 0.0165 - val_mae: 0.0966\n",
            "Epoch 7/10\n",
            "\u001b[1m2045/2045\u001b[0m \u001b[32m━━━━━━━━━━━━━━━━━━━━\u001b[0m\u001b[37m\u001b[0m \u001b[1m10s\u001b[0m 5ms/step - loss: 0.0174 - mae: 0.0973 - val_loss: 0.0167 - val_mae: 0.0965\n",
            "\u001b[1m639/639\u001b[0m \u001b[32m━━━━━━━━━━━━━━━━━━━━\u001b[0m\u001b[37m\u001b[0m \u001b[1m1s\u001b[0m 2ms/step\n",
            "\u001b[1m2045/2045\u001b[0m \u001b[32m━━━━━━━━━━━━━━━━━━━━\u001b[0m\u001b[37m\u001b[0m \u001b[1m3s\u001b[0m 1ms/step\n"
          ]
        },
        {
          "output_type": "stream",
          "name": "stderr",
          "text": [
            "WARNING:absl:You are saving your model as an HDF5 file via `model.save()` or `keras.saving.save_model(model)`. This file format is considered legacy. We recommend using instead the native Keras format, e.g. `model.save('my_model.keras')` or `keras.saving.save_model(model, 'my_model.keras')`. \n"
          ]
        },
        {
          "output_type": "stream",
          "name": "stdout",
          "text": [
            "Model for new_price saved as 'optimized_lstm_new_price.h5'.\n"
          ]
        },
        {
          "output_type": "display_data",
          "data": {
            "text/plain": [
              "<Figure size 1000x600 with 1 Axes>"
            ],
            "image/png": "[encoded data removed]"
          },
          "metadata": {}
        },
        {
          "output_type": "stream",
          "name": "stdout",
          "text": [
            "Training LSTM for PI...\n",
            "Epoch 1/10\n"
          ]
        },
        {
          "output_type": "stream",
          "name": "stderr",
          "text": [
            "/usr/local/lib/python3.10/dist-packages/keras/src/layers/rnn/rnn.py:204: UserWarning: Do not pass an `input_shape`/`input_dim` argument to a layer. When using Sequential models, prefer using an `Input(shape)` object as the first layer in the model instead.\n",
            "  super().__init__(**kwargs)\n"
          ]
        },
        {
          "output_type": "stream",
          "name": "stdout",
          "text": [
            "\u001b[1m2045/2045\u001b[0m \u001b[32m━━━━━━━━━━━━━━━━━━━━\u001b[0m\u001b[37m\u001b[0m \u001b[1m12s\u001b[0m 5ms/step - loss: 0.0529 - mae: 0.1469 - val_loss: 0.0091 - val_mae: 0.0577\n",
            "Epoch 2/10\n",
            "\u001b[1m2045/2045\u001b[0m \u001b[32m━━━━━━━━━━━━━━━━━━━━\u001b[0m\u001b[37m\u001b[0m \u001b[1m10s\u001b[0m 5ms/step - loss: 0.0048 - mae: 0.0506 - val_loss: 0.0031 - val_mae: 0.0298\n",
            "Epoch 3/10\n",
            "\u001b[1m2045/2045\u001b[0m \u001b[32m━━━━━━━━━━━━━━━━━━━━\u001b[0m\u001b[37m\u001b[0m \u001b[1m10s\u001b[0m 5ms/step - loss: 0.0030 - mae: 0.0393 - val_loss: 0.0017 - val_mae: 0.0295\n",
            "Epoch 4/10\n",
            "\u001b[1m2045/2045\u001b[0m \u001b[32m━━━━━━━━━━━━━━━━━━━━\u001b[0m\u001b[37m\u001b[0m \u001b[1m10s\u001b[0m 5ms/step - loss: 0.0028 - mae: 0.0377 - val_loss: 0.0013 - val_mae: 0.0332\n",
            "Epoch 5/10\n",
            "\u001b[1m2045/2045\u001b[0m \u001b[32m━━━━━━━━━━━━━━━━━━━━\u001b[0m\u001b[37m\u001b[0m \u001b[1m10s\u001b[0m 5ms/step - loss: 0.0028 - mae: 0.0370 - val_loss: 2.0549e-04 - val_mae: 0.0085\n",
            "Epoch 6/10\n",
            "\u001b[1m2045/2045\u001b[0m \u001b[32m━━━━━━━━━━━━━━━━━━━━\u001b[0m\u001b[37m\u001b[0m \u001b[1m10s\u001b[0m 5ms/step - loss: 0.0027 - mae: 0.0367 - val_loss: 2.7107e-04 - val_mae: 0.0135\n",
            "Epoch 7/10\n",
            "\u001b[1m2045/2045\u001b[0m \u001b[32m━━━━━━━━━━━━━━━━━━━━\u001b[0m\u001b[37m\u001b[0m \u001b[1m10s\u001b[0m 5ms/step - loss: 0.0027 - mae: 0.0366 - val_loss: 1.6616e-04 - val_mae: 0.0117\n",
            "Epoch 8/10\n",
            "\u001b[1m2045/2045\u001b[0m \u001b[32m━━━━━━━━━━━━━━━━━━━━\u001b[0m\u001b[37m\u001b[0m \u001b[1m10s\u001b[0m 5ms/step - loss: 0.0026 - mae: 0.0363 - val_loss: 1.0441e-04 - val_mae: 0.0064\n",
            "Epoch 9/10\n",
            "\u001b[1m2045/2045\u001b[0m \u001b[32m━━━━━━━━━━━━━━━━━━━━\u001b[0m\u001b[37m\u001b[0m \u001b[1m10s\u001b[0m 5ms/step - loss: 0.0026 - mae: 0.0361 - val_loss: 3.9799e-04 - val_mae: 0.0184\n",
            "Epoch 10/10\n",
            "\u001b[1m2045/2045\u001b[0m \u001b[32m━━━━━━━━━━━━━━━━━━━━\u001b[0m\u001b[37m\u001b[0m \u001b[1m10s\u001b[0m 5ms/step - loss: 0.0026 - mae: 0.0360 - val_loss: 3.7700e-04 - val_mae: 0.0187\n",
            "\u001b[1m639/639\u001b[0m \u001b[32m━━━━━━━━━━━━━━━━━━━━\u001b[0m\u001b[37m\u001b[0m \u001b[1m1s\u001b[0m 2ms/step\n",
            "\u001b[1m2045/2045\u001b[0m \u001b[32m━━━━━━━━━━━━━━━━━━━━\u001b[0m\u001b[37m\u001b[0m \u001b[1m3s\u001b[0m 1ms/step\n"
          ]
        },
        {
          "output_type": "stream",
          "name": "stderr",
          "text": [
            "WARNING:absl:You are saving your model as an HDF5 file via `model.save()` or `keras.saving.save_model(model)`. This file format is considered legacy. We recommend using instead the native Keras format, e.g. `model.save('my_model.keras')` or `keras.saving.save_model(model, 'my_model.keras')`. \n"
          ]
        },
        {
          "output_type": "stream",
          "name": "stdout",
          "text": [
            "Model for PI saved as 'optimized_lstm_PI.h5'.\n"
          ]
        },
        {
          "output_type": "display_data",
          "data": {
            "text/plain": [
              "<Figure size 1000x600 with 1 Axes>"
            ],
            "image/png": "[encoded data removed]"
          },
          "metadata": {}
        },
        {
          "output_type": "stream",
          "name": "stdout",
          "text": [
            "Updated results saved to 'master_results.csv'.\n",
            "   Target               Model  Train R²  Test R²          MAE          MSE         RMSE      MAPE\n",
            "new_price LSTM with Timestamp  0.646503 0.513864 1.855038e+06 5.308855e+12 2.304095e+06 32.303229\n",
            "       PI LSTM with Timestamp  0.999382 0.000000 2.261659e-01 1.614676e-01 4.018303e-01  2.208651\n"
          ]
        },
        {
          "output_type": "stream",
          "name": "stderr",
          "text": [
            "<ipython-input-15-d7f2d05c0777>:150: FutureWarning: The behavior of DataFrame concatenation with empty or all-NA entries is deprecated. In a future version, this will no longer exclude empty or all-NA columns when determining the result dtypes. To retain the old behavior, exclude the relevant entries before the concat operation.\n",
            "  master_results = pd.concat([master_results, pd.DataFrame([metrics])], ignore_index=True)\n"
          ]
        }
      ]
    },
    {
      "cell_type": "markdown",
      "source": [
        "# STACKING ENSEMBLING TECHNIQUE"
      ],
      "metadata": {
        "id": "Ugb2f-FQbpMT"
      },
      "id": "Ugb2f-FQbpMT"
    },
    {
      "cell_type": "code",
      "source": [
        "import numpy as np\n",
        "import pandas as pd\n",
        "from sklearn.ensemble import StackingRegressor, RandomForestRegressor, GradientBoostingRegressor\n",
        "from sklearn.linear_model import LinearRegression\n",
        "from xgboost import XGBRegressor\n",
        "from sklearn.metrics import mean_squared_error, mean_absolute_error, r2_score\n",
        "from sklearn.preprocessing import MinMaxScaler\n",
        "from sklearn.model_selection import train_test_split\n",
        "from tabulate import tabulate\n",
        "\n",
        "# 1. Load and preprocess data\n",
        "filtered_dataset120 = filtered_dataset120.sort_values(by=\"Timestamp\")\n",
        "\n",
        "# Handle outliers\n",
        "q1 = filtered_dataset120[\"new_price\"].quantile(0.01)\n",
        "q99 = filtered_dataset120[\"new_price\"].quantile(0.99)\n",
        "filtered_dataset120[\"new_price\"] = filtered_dataset120[\"new_price\"].clip(lower=q1, upper=q99)\n",
        "\n",
        "# Define features and targets\n",
        "features = filtered_dataset120.drop(columns=[\"new_price\", \"PI\"])  # Exclude targets\n",
        "target_new_price = filtered_dataset120[\"new_price\"]\n",
        "target_PI = filtered_dataset120[\"PI\"]\n",
        "\n",
        "# Scale features and targets\n",
        "scaler_X = MinMaxScaler()\n",
        "scaled_features = scaler_X.fit_transform(features)\n",
        "\n",
        "scaler_new_price = MinMaxScaler()\n",
        "scaler_PI = MinMaxScaler()\n",
        "\n",
        "target_new_price_scaled = scaler_new_price.fit_transform(target_new_price.values.reshape(-1, 1))\n",
        "target_PI_scaled = scaler_PI.fit_transform(target_PI.values.reshape(-1, 1))\n",
        "\n",
        "# Train-test split\n",
        "X_train, X_test, y_train_new_price, y_test_new_price = train_test_split(\n",
        "    scaled_features, target_new_price_scaled, test_size=0.2, random_state=42, shuffle=False\n",
        ")\n",
        "X_train, X_val, y_train_new_price, y_val_new_price = train_test_split(\n",
        "    X_train, y_train_new_price, test_size=0.2, random_state=42, shuffle=False\n",
        ")\n",
        "\n",
        "# Same for PI\n",
        "X_train, X_test, y_train_PI, y_test_PI = train_test_split(\n",
        "    scaled_features, target_PI_scaled, test_size=0.2, random_state=42, shuffle=False\n",
        ")\n",
        "X_train, X_val, y_train_PI, y_val_PI = train_test_split(\n",
        "    X_train, y_train_PI, test_size=0.2, random_state=42, shuffle=False\n",
        ")\n",
        "\n",
        "# 2. Define base models and meta-learner\n",
        "base_models = [\n",
        "    (\"xgb\", XGBRegressor(n_jobs=-1)),\n",
        "    (\"rf\", RandomForestRegressor(n_jobs=-1)),\n",
        "    (\"gbr\", GradientBoostingRegressor()),\n",
        "]\n",
        "meta_learner = LinearRegression()\n",
        "\n",
        "# 3. Stacking Regressor for `new_price`\n",
        "stacking_model_new_price = StackingRegressor(estimators=base_models, final_estimator=meta_learner, n_jobs=-1)\n",
        "stacking_model_new_price.fit(X_train, y_train_new_price)\n",
        "\n",
        "# Stacking Regressor for `PI`\n",
        "stacking_model_PI = StackingRegressor(estimators=base_models, final_estimator=meta_learner, n_jobs=-1)\n",
        "stacking_model_PI.fit(X_train, y_train_PI)\n",
        "\n",
        "# 4. Evaluate the Stacking Models\n",
        "def evaluate_model(scaler_target, y_test, stacking_model, X_test):\n",
        "    \"\"\"Evaluate model and return results.\"\"\"\n",
        "    stacking_preds = stacking_model.predict(X_test)\n",
        "    stacking_preds_inverse = scaler_target.inverse_transform(stacking_preds.reshape(-1, 1)).flatten()\n",
        "    y_test_inverse = scaler_target.inverse_transform(y_test.reshape(-1, 1)).flatten()\n",
        "\n",
        "    mse = mean_squared_error(y_test_inverse, stacking_preds_inverse)\n",
        "    rmse = np.sqrt(mse)\n",
        "    mae = mean_absolute_error(y_test_inverse, stacking_preds_inverse)\n",
        "    r2 = r2_score(y_test_inverse, stacking_preds_inverse)\n",
        "    nonzero_indices = y_test_inverse != 0\n",
        "    mape = np.mean(\n",
        "        np.abs((y_test_inverse[nonzero_indices] - stacking_preds_inverse[nonzero_indices]) / y_test_inverse[nonzero_indices])\n",
        "    ) * 100\n",
        "\n",
        "    return {\n",
        "        \"Train R²\": stacking_model.score(X_train, y_train_new_price),\n",
        "        \"Test R²\": r2,\n",
        "        \"MAE\": mae,\n",
        "        \"MSE\": mse,\n",
        "        \"RMSE\": rmse,\n",
        "        \"MAPE\": mape,\n",
        "    }\n",
        "\n",
        "# Evaluate for `new_price`\n",
        "results_new_price = evaluate_model(scaler_new_price, y_test_new_price, stacking_model_new_price, X_test)\n",
        "results_new_price[\"Target\"] = \"new_price\"\n",
        "results_new_price[\"Model\"] = \"Stacking Ensemble\"\n",
        "\n",
        "# Evaluate for `PI`\n",
        "results_PI = evaluate_model(scaler_PI, y_test_PI, stacking_model_PI, X_test)\n",
        "results_PI[\"Target\"] = \"PI\"\n",
        "results_PI[\"Model\"] = \"Stacking Ensemble\"\n",
        "\n",
        "# 5. Save results dynamically to master_results.csv\n",
        "try:\n",
        "    master_results = pd.read_csv(\"master_results.csv\")\n",
        "except FileNotFoundError:\n",
        "    master_results = pd.DataFrame(columns=[\"Target\", \"Model\", \"Train R²\", \"Test R²\", \"MAE\", \"MSE\", \"RMSE\", \"MAPE\"])\n",
        "\n",
        "# Concatenate results and drop duplicates\n",
        "new_results = pd.DataFrame([results_new_price, results_PI])\n",
        "master_results = pd.concat([master_results, new_results], ignore_index=True)\n",
        "master_results = master_results.drop_duplicates(subset=[\"Target\", \"Model\"], keep=\"last\")\n",
        "master_results.to_csv(\"master_results.csv\", index=False)\n",
        "\n",
        "# 6. Display final results table (including all models)\n",
        "print(\"Updated Master Results Table (with Stacking Ensemble for `new_price` and `PI`):\")\n",
        "print(master_results.to_string(index=False))\n",
        "\n",
        "# Visualize the results as a table\n",
        "print(\"\\nComparison of All Machine Learning Models:\")\n",
        "print(tabulate(master_results, headers=\"keys\", tablefmt=\"pretty\"))"
      ],
      "metadata": {
        "id": "IGJCW0RE_hnH",
        "colab": {
          "base_uri": "https://localhost:8080/"
        },
        "outputId": "0c58cfc3-2a87-473b-b09a-c80ad83e7a18"
      },
      "id": "IGJCW0RE_hnH",
      "execution_count": 16,
      "outputs": [
        {
          "output_type": "stream",
          "name": "stderr",
          "text": [
            "/usr/local/lib/python3.10/dist-packages/sklearn/ensemble/_stacking.py:970: DataConversionWarning: A column-vector y was passed when a 1d array was expected. Please change the shape of y to (n_samples, ), for example using ravel().\n",
            "  y = column_or_1d(y, warn=True)\n",
            "/usr/local/lib/python3.10/dist-packages/sklearn/ensemble/_stacking.py:970: DataConversionWarning: A column-vector y was passed when a 1d array was expected. Please change the shape of y to (n_samples, ), for example using ravel().\n",
            "  y = column_or_1d(y, warn=True)\n"
          ]
        },
        {
          "output_type": "stream",
          "name": "stdout",
          "text": [
            "Updated Master Results Table (with Stacking Ensemble for `new_price` and `PI`):\n",
            "   Target               Model  Train R²  Test R²          MAE          MSE         RMSE      MAPE\n",
            "new_price LSTM with Timestamp  0.646503 0.513864 1.855038e+06 5.308855e+12 2.304095e+06 32.303229\n",
            "       PI LSTM with Timestamp  0.999382 0.000000 2.261659e-01 1.614676e-01 4.018303e-01  2.208651\n",
            "new_price   Stacking Ensemble  0.864758 0.622108 1.484192e+06 4.126848e+12 2.031464e+06 22.620323\n",
            "       PI   Stacking Ensemble -3.784115 0.000000 5.398981e+00 2.914900e+01 5.398981e+00 52.724425\n",
            "\n",
            "Comparison of All Machine Learning Models:\n",
            "+---+-----------+---------------------+--------------------+-------------------+--------------------+--------------------+--------------------+--------------------+\n",
            "|   |  Target   |        Model        |      Train R²      |      Test R²      |        MAE         |        MSE         |        RMSE        |        MAPE        |\n",
            "+---+-----------+---------------------+--------------------+-------------------+--------------------+--------------------+--------------------+--------------------+\n",
            "| 0 | new_price | LSTM with Timestamp | 0.646502503833418  | 0.513864357092308 | 1855037.8603027489 | 5308854982532.941  | 2304095.263337204  | 32.30322895958134  |\n",
            "| 1 |    PI     | LSTM with Timestamp | 0.9993818048959991 |        0.0        | 0.2261658524818573 | 0.1614675535295646 | 0.4018302546219792 | 2.208650903143138  |\n",
            "| 2 | new_price |  Stacking Ensemble  | 0.8647576086459682 | 0.622107658256102 | 1484191.8683123256 | 4126847616548.4126 | 2031464.4019889722 | 22.620323382420914 |\n",
            "| 3 |    PI     |  Stacking Ensemble  | -3.784115196808724 |        0.0        | 5.398981126384824  | 29.14899720305954  | 5.3989811263848235 |  52.7244250623518  |\n",
            "+---+-----------+---------------------+--------------------+-------------------+--------------------+--------------------+--------------------+--------------------+\n"
          ]
        }
      ]
    },
    {
      "cell_type": "markdown",
      "source": [
        "# BI DIRECTIONAL MODEL"
      ],
      "metadata": {
        "id": "vl9Rujtmb-Qd"
      },
      "id": "vl9Rujtmb-Qd"
    },
    {
      "cell_type": "code",
      "source": [
        "import numpy as np\n",
        "import pandas as pd\n",
        "from sklearn.metrics import mean_squared_error, mean_absolute_error, r2_score\n",
        "from sklearn.preprocessing import MinMaxScaler\n",
        "from keras.models import Sequential\n",
        "from keras.layers import LSTM, Bidirectional, Dense, Dropout\n",
        "from keras.callbacks import EarlyStopping\n",
        "import matplotlib.pyplot as plt\n",
        "\n",
        "# Generate rolling statistics and lag features\n",
        "def create_rolling_features(df, target_column, lags=[1, 2, 3], rolling_windows=[3, 5, 10]):\n",
        "    for lag in lags:\n",
        "        df[f\"lag_{lag}\"] = df[target_column].shift(lag)\n",
        "    for window in rolling_windows:\n",
        "        df[f\"rolling_mean_{window}\"] = df[target_column].rolling(window=window).mean()\n",
        "        df[f\"rolling_std_{window}\"] = df[target_column].rolling(window=window).std()\n",
        "        df[f\"rolling_min_{window}\"] = df[target_column].rolling(window=window).min()\n",
        "        df[f\"rolling_max_{window}\"] = df[target_column].rolling(window=window).max()\n",
        "    df.fillna(0, inplace=True)  # Handle NaN values\n",
        "    print(\"Rolling features created. Sample data:\")\n",
        "    print(df.head())  # Debugging: Check rolling features\n",
        "    return df\n",
        "\n",
        "# Create sequences for LSTM input\n",
        "def create_sequences(data, target, sequence_length):\n",
        "    X, y = [], []\n",
        "    for i in range(len(data) - sequence_length):\n",
        "        X.append(data[i:i + sequence_length])\n",
        "        y.append(target[i + sequence_length])\n",
        "    X, y = np.array(X), np.array(y)\n",
        "    print(f\"Sequences created with shapes: X={X.shape}, y={y.shape}\")  # Debugging: Check sequence shapes\n",
        "    return X, y\n",
        "\n",
        "# Build the improved Bidirectional LSTM model\n",
        "def build_improved_bidirectional_lstm_model(input_shape):\n",
        "    model = Sequential()\n",
        "    model.add(Bidirectional(LSTM(units=128, return_sequences=True), input_shape=input_shape))\n",
        "    model.add(Dropout(0.4))\n",
        "    model.add(Bidirectional(LSTM(units=64, return_sequences=True)))\n",
        "    model.add(Dropout(0.4))\n",
        "    model.add(Bidirectional(LSTM(units=32, return_sequences=False)))\n",
        "    model.add(Dropout(0.4))\n",
        "    model.add(Dense(units=128, activation=\"relu\"))\n",
        "    model.add(Dropout(0.4))\n",
        "    model.add(Dense(units=1))\n",
        "    model.compile(optimizer=\"adam\", loss=\"mse\", metrics=[\"mae\"])\n",
        "    return model\n",
        "\n",
        "# Train and evaluate the model for a given target\n",
        "def train_and_evaluate_bidirectional_lstm(target_column, sequence_length=10, epochs=15):\n",
        "    print(f\"Training Bidirectional LSTM for target: {target_column}\")\n",
        "\n",
        "    # Generate rolling statistics\n",
        "    data = create_rolling_features(filtered_dataset120ML.copy(), target_column)\n",
        "\n",
        "    # Normalize features and target\n",
        "    scaler = MinMaxScaler()\n",
        "    scaled_features = scaler.fit_transform(data.drop(columns=[target_column]))\n",
        "    scaled_target = scaler.fit_transform(data[[target_column]])\n",
        "    print(\"Features and target scaled.\")  # Debugging: Confirm scaling\n",
        "\n",
        "    # Create sequences\n",
        "    X, y = create_sequences(scaled_features, scaled_target, sequence_length)\n",
        "\n",
        "    # Split into train, validation, and test sets\n",
        "    train_size = int(0.7 * len(X))\n",
        "    val_size = int(0.15 * len(X))\n",
        "    X_train, y_train = X[:train_size], y[:train_size]\n",
        "    X_val, y_val = X[train_size:train_size + val_size], y[train_size:train_size + val_size]\n",
        "    X_test, y_test = X[train_size + val_size:], y[train_size + val_size:]\n",
        "    print(f\"Train size: {len(X_train)}, Validation size: {len(X_val)}, Test size: {len(X_test)}\")  # Debugging: Check splits\n",
        "\n",
        "    # Build and train the model\n",
        "    model = build_improved_bidirectional_lstm_model(input_shape=(X_train.shape[1], X_train.shape[2]))\n",
        "    early_stopping = EarlyStopping(monitor=\"val_loss\", patience=5, restore_best_weights=True)\n",
        "\n",
        "    history = model.fit(\n",
        "        X_train, y_train,\n",
        "        validation_data=(X_val, y_val),\n",
        "        epochs=epochs,\n",
        "        batch_size=32,\n",
        "        callbacks=[early_stopping],\n",
        "        verbose=1\n",
        "    )\n",
        "\n",
        "    # Evaluate the model\n",
        "    y_pred_scaled = model.predict(X_test).flatten()\n",
        "    y_test_scaled = y_test.flatten()\n",
        "    y_pred = scaler.inverse_transform(y_pred_scaled.reshape(-1, 1)).flatten()\n",
        "    y_test = scaler.inverse_transform(y_test_scaled.reshape(-1, 1)).flatten()\n",
        "    print(f\"Sample predictions: {y_pred[:10]}\")  # Debugging: Check predictions\n",
        "    print(f\"Sample actual values: {y_test[:10]}\")  # Debugging: Check actual values\n",
        "\n",
        "    # Calculate metrics\n",
        "    mse = mean_squared_error(y_test, y_pred)\n",
        "    rmse = np.sqrt(mse)\n",
        "    mae = mean_absolute_error(y_test, y_pred)\n",
        "    r2_train = r2_score(scaler.inverse_transform(y_train), scaler.inverse_transform(model.predict(X_train)))\n",
        "    r2_test = r2_score(y_test, y_pred)\n",
        "    nonzero_indices = y_test != 0\n",
        "    mape = (\n",
        "        np.mean(np.abs((y_test[nonzero_indices] - y_pred[nonzero_indices]) / y_test[nonzero_indices])) * 100\n",
        "        if np.any(nonzero_indices) else np.nan\n",
        "    )\n",
        "\n",
        "    # Save model\n",
        "    model.save(f\"bidirectional_lstm_{target_column}.h5\")\n",
        "    print(f\"Model saved as 'bidirectional_lstm_{target_column}.h5'\")\n",
        "\n",
        "    # Return results\n",
        "    return {\n",
        "        \"Target\": target_column,\n",
        "        \"Train R²\": r2_train,\n",
        "        \"Test R²\": r2_test,\n",
        "        \"MAE\": mae,\n",
        "        \"MSE\": mse,\n",
        "        \"RMSE\": rmse,\n",
        "        \"MAPE\": mape,\n",
        "    }, history\n",
        "\n",
        "# Load dataset\n",
        "file_path = '/content/drive/My Drive/Colab Notebooks/M5 Code and Data/filtered_dataset120ML.csv'\n",
        "filtered_dataset120ML = pd.read_csv(file_path)\n",
        "print(f\"Dataset loaded successfully with shape: {filtered_dataset120ML.shape}\")\n",
        "\n",
        "# Train and evaluate for both `new_price` and `PI`\n",
        "results = {}\n",
        "history_dict = {}\n",
        "for target in [\"new_price\", \"PI\"]:\n",
        "    result, history = train_and_evaluate_bidirectional_lstm(target_column=target)\n",
        "    results[target] = result\n",
        "    history_dict[target] = history\n",
        "\n",
        "# Update master_results.csv\n",
        "try:\n",
        "    master_results = pd.read_csv(\"master_results.csv\")\n",
        "except FileNotFoundError:\n",
        "    master_results = pd.DataFrame(columns=[\n",
        "        \"Model\", \"Train R² (new_price)\", \"Test R² (new_price)\", \"MAE (new_price)\",\n",
        "        \"Train R² (PI)\", \"Test R² (PI)\", \"MAE (PI)\"\n",
        "    ])\n",
        "\n",
        "# Update Bidirectional LSTM row or append if not present\n",
        "bidirectional_row = {\n",
        "    \"Model\": \"Bidirectional LSTM\",\n",
        "    \"Train R² (new_price)\": results[\"new_price\"][\"Train R²\"],\n",
        "    \"Test R² (new_price)\": results[\"new_price\"][\"Test R²\"],\n",
        "    \"MAE (new_price)\": results[\"new_price\"][\"MAE\"],\n",
        "    \"Train R² (PI)\": results[\"PI\"][\"Train R²\"],\n",
        "    \"Test R² (PI)\": results[\"PI\"][\"Test R²\"],\n",
        "    \"MAE (PI)\": results[\"PI\"][\"MAE\"],\n",
        "}\n",
        "\n",
        "# Remove old Bidirectional LSTM row if it exists\n",
        "master_results = master_results[master_results[\"Model\"] != \"Bidirectional LSTM\"]\n",
        "master_results = pd.concat([master_results, pd.DataFrame([bidirectional_row])], ignore_index=True)\n",
        "master_results.to_csv(\"master_results.csv\", index=False)\n",
        "print(\"\\nUpdated Results from 'master_results.csv':\")\n",
        "print(master_results.to_string(index=False))\n",
        "\n",
        "# Plot training and validation loss for `new_price` and `PI`\n",
        "for target, history in history_dict.items():\n",
        "    plt.figure(figsize=(10, 6))\n",
        "    plt.plot(history.history[\"loss\"], label=\"Training Loss\", color=\"blue\")\n",
        "    plt.plot(history.history[\"val_loss\"], label=\"Validation Loss\", color=\"orange\")\n",
        "    plt.title(f\"Bidirectional LSTM Learning Curves for {target}\")\n",
        "    plt.xlabel(\"Epochs\")\n",
        "    plt.ylabel(\"Loss\")\n",
        "    plt.legend()\n",
        "    plt.grid(True)\n",
        "    plt.show()"
      ],
      "metadata": {
        "id": "KlGoCK4P_hpb",
        "colab": {
          "base_uri": "https://localhost:8080/",
          "height": 1000
        },
        "outputId": "d4df6689-6219-428a-e3af-d3f517cd549c"
      },
      "id": "KlGoCK4P_hpb",
      "execution_count": 19,
      "outputs": [
        {
          "output_type": "stream",
          "name": "stdout",
          "text": [
            "Dataset loaded successfully with shape: (102229, 58)\n",
            "Training Bidirectional LSTM for target: new_price\n",
            "Rolling features created. Sample data:\n",
            "   saleable_area(ft^2)  floor   CG    CI  CPI   GDP      HS    IR  LTV    M3  \\\n",
            "0                  423   22.0  9.1  66.1  2.0  91.4  5250.0  4.75  0.5  16.5   \n",
            "1                  761   12.0  9.1  66.1  2.0  91.4  5250.0  4.75  0.5  16.5   \n",
            "2                  320   12.0  9.1  66.1  2.0  91.4  5250.0  4.75  0.5  16.5   \n",
            "3                  519   29.0  9.1  66.1  2.0  91.4  5250.0  4.75  0.5  16.5   \n",
            "4                  699   24.0  9.1  66.1  2.0  91.4  5250.0  4.75  0.5  16.5   \n",
            "\n",
            "   ...  rolling_min_3  rolling_max_3  rolling_mean_5  rolling_std_5  \\\n",
            "0  ...            0.0            0.0             0.0   0.000000e+00   \n",
            "1  ...            0.0            0.0             0.0   0.000000e+00   \n",
            "2  ...      4389440.0     12067177.0             0.0   0.000000e+00   \n",
            "3  ...      4389440.0     12067177.0             0.0   0.000000e+00   \n",
            "4  ...      4389440.0     10289979.0       8402278.2   3.004050e+06   \n",
            "\n",
            "   rolling_min_5  rolling_max_5  rolling_mean_10  rolling_std_10  \\\n",
            "0            0.0            0.0              0.0             0.0   \n",
            "1            0.0            0.0              0.0             0.0   \n",
            "2            0.0            0.0              0.0             0.0   \n",
            "3            0.0            0.0              0.0             0.0   \n",
            "4      4389440.0     12067177.0              0.0             0.0   \n",
            "\n",
            "   rolling_min_10  rolling_max_10  \n",
            "0             0.0             0.0  \n",
            "1             0.0             0.0  \n",
            "2             0.0             0.0  \n",
            "3             0.0             0.0  \n",
            "4             0.0             0.0  \n",
            "\n",
            "[5 rows x 73 columns]\n",
            "Features and target scaled.\n",
            "Sequences created with shapes: X=(102219, 10, 72), y=(102219, 1)\n",
            "Train size: 71553, Validation size: 15332, Test size: 15334\n"
          ]
        },
        {
          "output_type": "stream",
          "name": "stderr",
          "text": [
            "/usr/local/lib/python3.10/dist-packages/keras/src/layers/rnn/bidirectional.py:107: UserWarning: Do not pass an `input_shape`/`input_dim` argument to a layer. When using Sequential models, prefer using an `Input(shape)` object as the first layer in the model instead.\n",
            "  super().__init__(**kwargs)\n"
          ]
        },
        {
          "output_type": "stream",
          "name": "stdout",
          "text": [
            "Epoch 1/15\n",
            "\u001b[1m2237/2237\u001b[0m \u001b[32m━━━━━━━━━━━━━━━━━━━━\u001b[0m\u001b[37m\u001b[0m \u001b[1m36s\u001b[0m 14ms/step - loss: 0.0332 - mae: 0.1357 - val_loss: 0.0247 - val_mae: 0.1148\n",
            "Epoch 2/15\n",
            "\u001b[1m2237/2237\u001b[0m \u001b[32m━━━━━━━━━━━━━━━━━━━━\u001b[0m\u001b[37m\u001b[0m \u001b[1m32s\u001b[0m 14ms/step - loss: 0.0293 - mae: 0.1277 - val_loss: 0.0244 - val_mae: 0.1169\n",
            "Epoch 3/15\n",
            "\u001b[1m2237/2237\u001b[0m \u001b[32m━━━━━━━━━━━━━━━━━━━━\u001b[0m\u001b[37m\u001b[0m \u001b[1m32s\u001b[0m 14ms/step - loss: 0.0288 - mae: 0.1267 - val_loss: 0.0252 - val_mae: 0.1197\n",
            "Epoch 4/15\n",
            "\u001b[1m2237/2237\u001b[0m \u001b[32m━━━━━━━━━━━━━━━━━━━━\u001b[0m\u001b[37m\u001b[0m \u001b[1m32s\u001b[0m 14ms/step - loss: 0.0285 - mae: 0.1262 - val_loss: 0.0245 - val_mae: 0.1173\n",
            "Epoch 5/15\n",
            "\u001b[1m2237/2237\u001b[0m \u001b[32m━━━━━━━━━━━━━━━━━━━━\u001b[0m\u001b[37m\u001b[0m \u001b[1m32s\u001b[0m 14ms/step - loss: 0.0281 - mae: 0.1252 - val_loss: 0.0243 - val_mae: 0.1157\n",
            "Epoch 6/15\n",
            "\u001b[1m2237/2237\u001b[0m \u001b[32m━━━━━━━━━━━━━━━━━━━━\u001b[0m\u001b[37m\u001b[0m \u001b[1m31s\u001b[0m 14ms/step - loss: 0.0286 - mae: 0.1262 - val_loss: 0.0247 - val_mae: 0.1196\n",
            "Epoch 7/15\n",
            "\u001b[1m2237/2237\u001b[0m \u001b[32m━━━━━━━━━━━━━━━━━━━━\u001b[0m\u001b[37m\u001b[0m \u001b[1m31s\u001b[0m 14ms/step - loss: 0.0282 - mae: 0.1250 - val_loss: 0.0245 - val_mae: 0.1157\n",
            "Epoch 8/15\n",
            "\u001b[1m2237/2237\u001b[0m \u001b[32m━━━━━━━━━━━━━━━━━━━━\u001b[0m\u001b[37m\u001b[0m \u001b[1m31s\u001b[0m 14ms/step - loss: 0.0284 - mae: 0.1257 - val_loss: 0.0245 - val_mae: 0.1152\n",
            "Epoch 9/15\n",
            "\u001b[1m2237/2237\u001b[0m \u001b[32m━━━━━━━━━━━━━━━━━━━━\u001b[0m\u001b[37m\u001b[0m \u001b[1m31s\u001b[0m 14ms/step - loss: 0.0285 - mae: 0.1258 - val_loss: 0.0247 - val_mae: 0.1174\n",
            "Epoch 10/15\n",
            "\u001b[1m2237/2237\u001b[0m \u001b[32m━━━━━━━━━━━━━━━━━━━━\u001b[0m\u001b[37m\u001b[0m \u001b[1m30s\u001b[0m 14ms/step - loss: 0.0287 - mae: 0.1262 - val_loss: 0.0252 - val_mae: 0.1212\n",
            "\u001b[1m480/480\u001b[0m \u001b[32m━━━━━━━━━━━━━━━━━━━━\u001b[0m\u001b[37m\u001b[0m \u001b[1m2s\u001b[0m 4ms/step\n",
            "Sample predictions: [10243835.  9690019.  9242623.  8690467.  8481614.  8858081.  7924723.\n",
            " 10210504.  9570206.  9120499.]\n",
            "Sample actual values: [ 5800143.  5700042.  4170040.  5699970. 14900380. 18499544. 11799774.\n",
            "  5099832.  7880040.  6000104.]\n",
            "\u001b[1m2237/2237\u001b[0m \u001b[32m━━━━━━━━━━━━━━━━━━━━\u001b[0m\u001b[37m\u001b[0m \u001b[1m7s\u001b[0m 3ms/step\n"
          ]
        },
        {
          "output_type": "stream",
          "name": "stderr",
          "text": [
            "WARNING:absl:You are saving your model as an HDF5 file via `model.save()` or `keras.saving.save_model(model)`. This file format is considered legacy. We recommend using instead the native Keras format, e.g. `model.save('my_model.keras')` or `keras.saving.save_model(model, 'my_model.keras')`. \n"
          ]
        },
        {
          "output_type": "stream",
          "name": "stdout",
          "text": [
            "Model saved as 'bidirectional_lstm_new_price.h5'\n",
            "Training Bidirectional LSTM for target: PI\n",
            "Rolling features created. Sample data:\n",
            "   saleable_area(ft^2)  floor   CG    CI  CPI   GDP      HS    IR  LTV    M3  \\\n",
            "0                  423   22.0  9.1  66.1  2.0  91.4  5250.0  4.75  0.5  16.5   \n",
            "1                  761   12.0  9.1  66.1  2.0  91.4  5250.0  4.75  0.5  16.5   \n",
            "2                  320   12.0  9.1  66.1  2.0  91.4  5250.0  4.75  0.5  16.5   \n",
            "3                  519   29.0  9.1  66.1  2.0  91.4  5250.0  4.75  0.5  16.5   \n",
            "4                  699   24.0  9.1  66.1  2.0  91.4  5250.0  4.75  0.5  16.5   \n",
            "\n",
            "   ...  rolling_min_3  rolling_max_3  rolling_mean_5  rolling_std_5  \\\n",
            "0  ...           0.00           0.00            0.00            0.0   \n",
            "1  ...           0.00           0.00            0.00            0.0   \n",
            "2  ...         -10.24         -10.24            0.00            0.0   \n",
            "3  ...         -10.24         -10.24            0.00            0.0   \n",
            "4  ...         -10.24         -10.24          -10.24            0.0   \n",
            "\n",
            "   rolling_min_5  rolling_max_5  rolling_mean_10  rolling_std_10  \\\n",
            "0           0.00           0.00              0.0             0.0   \n",
            "1           0.00           0.00              0.0             0.0   \n",
            "2           0.00           0.00              0.0             0.0   \n",
            "3           0.00           0.00              0.0             0.0   \n",
            "4         -10.24         -10.24              0.0             0.0   \n",
            "\n",
            "   rolling_min_10  rolling_max_10  \n",
            "0             0.0             0.0  \n",
            "1             0.0             0.0  \n",
            "2             0.0             0.0  \n",
            "3             0.0             0.0  \n",
            "4             0.0             0.0  \n",
            "\n",
            "[5 rows x 73 columns]\n",
            "Features and target scaled.\n",
            "Sequences created with shapes: X=(102219, 10, 72), y=(102219, 1)\n",
            "Train size: 71553, Validation size: 15332, Test size: 15334\n"
          ]
        },
        {
          "output_type": "stream",
          "name": "stderr",
          "text": [
            "/usr/local/lib/python3.10/dist-packages/keras/src/layers/rnn/bidirectional.py:107: UserWarning: Do not pass an `input_shape`/`input_dim` argument to a layer. When using Sequential models, prefer using an `Input(shape)` object as the first layer in the model instead.\n",
            "  super().__init__(**kwargs)\n"
          ]
        },
        {
          "output_type": "stream",
          "name": "stdout",
          "text": [
            "Epoch 1/15\n",
            "\u001b[1m2237/2237\u001b[0m \u001b[32m━━━━━━━━━━━━━━━━━━━━\u001b[0m\u001b[37m\u001b[0m \u001b[1m36s\u001b[0m 14ms/step - loss: 0.0113 - mae: 0.0651 - val_loss: 0.0015 - val_mae: 0.0276\n",
            "Epoch 2/15\n",
            "\u001b[1m2237/2237\u001b[0m \u001b[32m━━━━━━━━━━━━━━━━━━━━\u001b[0m\u001b[37m\u001b[0m \u001b[1m31s\u001b[0m 14ms/step - loss: 0.0026 - mae: 0.0352 - val_loss: 9.5662e-04 - val_mae: 0.0237\n",
            "Epoch 3/15\n",
            "\u001b[1m2237/2237\u001b[0m \u001b[32m━━━━━━━━━━━━━━━━━━━━\u001b[0m\u001b[37m\u001b[0m \u001b[1m31s\u001b[0m 14ms/step - loss: 0.0021 - mae: 0.0319 - val_loss: 6.7177e-04 - val_mae: 0.0167\n",
            "Epoch 4/15\n",
            "\u001b[1m2237/2237\u001b[0m \u001b[32m━━━━━━━━━━━━━━━━━━━━\u001b[0m\u001b[37m\u001b[0m \u001b[1m31s\u001b[0m 14ms/step - loss: 0.0020 - mae: 0.0308 - val_loss: 4.8358e-04 - val_mae: 0.0145\n",
            "Epoch 5/15\n",
            "\u001b[1m2237/2237\u001b[0m \u001b[32m━━━━━━━━━━━━━━━━━━━━\u001b[0m\u001b[37m\u001b[0m \u001b[1m31s\u001b[0m 14ms/step - loss: 0.0019 - mae: 0.0298 - val_loss: 3.8711e-04 - val_mae: 0.0090\n",
            "Epoch 6/15\n",
            "\u001b[1m2237/2237\u001b[0m \u001b[32m━━━━━━━━━━━━━━━━━━━━\u001b[0m\u001b[37m\u001b[0m \u001b[1m30s\u001b[0m 13ms/step - loss: 0.0018 - mae: 0.0292 - val_loss: 7.4645e-04 - val_mae: 0.0196\n",
            "Epoch 7/15\n",
            "\u001b[1m2237/2237\u001b[0m \u001b[32m━━━━━━━━━━━━━━━━━━━━\u001b[0m\u001b[37m\u001b[0m \u001b[1m28s\u001b[0m 13ms/step - loss: 0.0018 - mae: 0.0285 - val_loss: 5.4020e-04 - val_mae: 0.0163\n",
            "Epoch 8/15\n",
            "\u001b[1m2237/2237\u001b[0m \u001b[32m━━━━━━━━━━━━━━━━━━━━\u001b[0m\u001b[37m\u001b[0m \u001b[1m28s\u001b[0m 13ms/step - loss: 0.0017 - mae: 0.0282 - val_loss: 3.4942e-04 - val_mae: 0.0102\n",
            "Epoch 9/15\n",
            "\u001b[1m2237/2237\u001b[0m \u001b[32m━━━━━━━━━━━━━━━━━━━━\u001b[0m\u001b[37m\u001b[0m \u001b[1m29s\u001b[0m 13ms/step - loss: 0.0017 - mae: 0.0279 - val_loss: 7.5574e-04 - val_mae: 0.0230\n",
            "Epoch 10/15\n",
            "\u001b[1m2237/2237\u001b[0m \u001b[32m━━━━━━━━━━━━━━━━━━━━\u001b[0m\u001b[37m\u001b[0m \u001b[1m29s\u001b[0m 13ms/step - loss: 0.0017 - mae: 0.0280 - val_loss: 4.7254e-04 - val_mae: 0.0128\n",
            "Epoch 11/15\n",
            "\u001b[1m2237/2237\u001b[0m \u001b[32m━━━━━━━━━━━━━━━━━━━━\u001b[0m\u001b[37m\u001b[0m \u001b[1m29s\u001b[0m 13ms/step - loss: 0.0017 - mae: 0.0278 - val_loss: 6.6030e-04 - val_mae: 0.0183\n",
            "Epoch 12/15\n",
            "\u001b[1m2237/2237\u001b[0m \u001b[32m━━━━━━━━━━━━━━━━━━━━\u001b[0m\u001b[37m\u001b[0m \u001b[1m29s\u001b[0m 13ms/step - loss: 0.0016 - mae: 0.0275 - val_loss: 3.2543e-04 - val_mae: 0.0108\n",
            "Epoch 13/15\n",
            "\u001b[1m2237/2237\u001b[0m \u001b[32m━━━━━━━━━━━━━━━━━━━━\u001b[0m\u001b[37m\u001b[0m \u001b[1m31s\u001b[0m 14ms/step - loss: 0.0017 - mae: 0.0278 - val_loss: 6.4554e-04 - val_mae: 0.0193\n",
            "Epoch 14/15\n",
            "\u001b[1m2237/2237\u001b[0m \u001b[32m━━━━━━━━━━━━━━━━━━━━\u001b[0m\u001b[37m\u001b[0m \u001b[1m30s\u001b[0m 13ms/step - loss: 0.0016 - mae: 0.0273 - val_loss: 4.7210e-04 - val_mae: 0.0107\n",
            "Epoch 15/15\n",
            "\u001b[1m2237/2237\u001b[0m \u001b[32m━━━━━━━━━━━━━━━━━━━━\u001b[0m\u001b[37m\u001b[0m \u001b[1m29s\u001b[0m 13ms/step - loss: 0.0016 - mae: 0.0275 - val_loss: 7.7509e-04 - val_mae: 0.0170\n",
            "\u001b[1m480/480\u001b[0m \u001b[32m━━━━━━━━━━━━━━━━━━━━\u001b[0m\u001b[37m\u001b[0m \u001b[1m2s\u001b[0m 4ms/step\n",
            "Sample predictions: [-2.968479  -2.9642727 -2.9625053 -2.9625838 -2.9564111 -2.971622\n",
            " -2.8768542 -2.942602  -2.9413667 -2.9436145]\n",
            "Sample actual values: [-2.79 -2.79 -2.79 -2.79 -2.79 -2.79 -2.79 -2.79 -2.79 -2.79]\n",
            "\u001b[1m2237/2237\u001b[0m \u001b[32m━━━━━━━━━━━━━━━━━━━━\u001b[0m\u001b[37m\u001b[0m \u001b[1m7s\u001b[0m 3ms/step\n"
          ]
        },
        {
          "output_type": "stream",
          "name": "stderr",
          "text": [
            "WARNING:absl:You are saving your model as an HDF5 file via `model.save()` or `keras.saving.save_model(model)`. This file format is considered legacy. We recommend using instead the native Keras format, e.g. `model.save('my_model.keras')` or `keras.saving.save_model(model, 'my_model.keras')`. \n"
          ]
        },
        {
          "output_type": "stream",
          "name": "stdout",
          "text": [
            "Model saved as 'bidirectional_lstm_PI.h5'\n",
            "\n",
            "Updated Results from 'master_results.csv':\n",
            "   Target               Model  Train R²  Test R²          MAE          MSE         RMSE      MAPE  Train R² (new_price)  Test R² (new_price)  MAE (new_price)  Train R² (PI)  Test R² (PI)  MAE (PI)\n",
            "new_price LSTM with Timestamp  0.646503 0.513864 1.855038e+06 5.308855e+12 2.304095e+06 32.303229                   NaN                  NaN              NaN            NaN           NaN       NaN\n",
            "       PI LSTM with Timestamp  0.999382 0.000000 2.261659e-01 1.614676e-01 4.018303e-01  2.208651                   NaN                  NaN              NaN            NaN           NaN       NaN\n",
            "new_price   Stacking Ensemble  0.864758 0.622108 1.484192e+06 4.126848e+12 2.031464e+06 22.620323                   NaN                  NaN              NaN            NaN           NaN       NaN\n",
            "       PI   Stacking Ensemble -3.784115 0.000000 5.398981e+00 2.914900e+01 5.398981e+00 52.724425                   NaN                  NaN              NaN            NaN           NaN       NaN\n",
            "      NaN  Bidirectional LSTM       NaN      NaN          NaN          NaN          NaN       NaN              0.064358             0.013984     2.948331e+06       0.996301      0.996821  0.168758\n"
          ]
        },
        {
          "output_type": "display_data",
          "data": {
            "text/plain": [
              "<Figure size 1000x600 with 1 Axes>"
            ],
            "image/png": "[encoded data removed]"
          },
          "metadata": {}
        },
        {
          "output_type": "display_data",
          "data": {
            "text/plain": [
              "<Figure size 1000x600 with 1 Axes>"
            ],
            "image/png": "[encoded data removed]"
          },
          "metadata": {}
        }
      ]
    },
    {
      "cell_type": "markdown",
      "source": [
        "# FINAL RESULTS (ALL MODELS)"
      ],
      "metadata": {
        "id": "0SxEyZQ5fylz"
      },
      "id": "0SxEyZQ5fylz"
    },
    {
      "cell_type": "code",
      "source": [
        "print(master_results.head(20))\n",
        "print(master_results.shape)"
      ],
      "metadata": {
        "id": "Cd4h9r4G_hwV",
        "colab": {
          "base_uri": "https://localhost:8080/"
        },
        "outputId": "04ef7cd1-ff67-4d7d-ba19-8e11f8e11824"
      },
      "id": "Cd4h9r4G_hwV",
      "execution_count": 18,
      "outputs": [
        {
          "output_type": "stream",
          "name": "stdout",
          "text": [
            "      Target                Model  Train R²   Test R²           MAE  \\\n",
            "0  new_price  LSTM with Timestamp  0.646503  0.513864  1.855038e+06   \n",
            "1         PI  LSTM with Timestamp  0.999382  0.000000  2.261659e-01   \n",
            "2  new_price    Stacking Ensemble  0.864758  0.622108  1.484192e+06   \n",
            "3         PI    Stacking Ensemble -3.784115  0.000000  5.398981e+00   \n",
            "4        NaN   Bidirectional LSTM       NaN       NaN           NaN   \n",
            "\n",
            "            MSE          RMSE       MAPE  Train R² (new_price)  \\\n",
            "0  5.308855e+12  2.304095e+06  32.303229                   NaN   \n",
            "1  1.614676e-01  4.018303e-01   2.208651                   NaN   \n",
            "2  4.126848e+12  2.031464e+06  22.620323                   NaN   \n",
            "3  2.914900e+01  5.398981e+00  52.724425                   NaN   \n",
            "4           NaN           NaN        NaN              0.030313   \n",
            "\n",
            "   Test R² (new_price)  MAE (new_price)  Train R² (PI)  Test R² (PI)  MAE (PI)  \n",
            "0                  NaN              NaN            NaN           NaN       NaN  \n",
            "1                  NaN              NaN            NaN           NaN       NaN  \n",
            "2                  NaN              NaN            NaN           NaN       NaN  \n",
            "3                  NaN              NaN            NaN           NaN       NaN  \n",
            "4            -0.008697     2.523768e+06       0.993941 -2.359839e+29  0.857941  \n",
            "(5, 14)\n"
          ]
        }
      ]
    },
    {
      "cell_type": "code",
      "execution_count": null,
      "id": "76e20d30",
      "metadata": {
        "id": "76e20d30"
      },
      "outputs": [],
      "source": []
    }
  ],
  "metadata": {
    "kernelspec": {
      "display_name": "Python 3",
      "name": "python3"
    },
    "language_info": {
      "codemirror_mode": {
        "name": "ipython",
        "version": 3
      },
      "file_extension": ".py",
      "mimetype": "text/x-python",
      "name": "python",
      "nbconvert_exporter": "python",
      "pygments_lexer": "ipython3",
      "version": "3.7.6"
    },
    "colab": {
      "provenance": [],
      "gpuType": "A100",
      "include_colab_link": true
    },
    "accelerator": "GPU"
  },
  "nbformat": 4,
  "nbformat_minor": 5
}